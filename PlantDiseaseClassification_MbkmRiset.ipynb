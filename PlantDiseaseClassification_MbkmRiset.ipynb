{
  "nbformat": 4,
  "nbformat_minor": 0,
  "metadata": {
    "colab": {
      "name": "PlantDiseaseClassification_MbkmRiset.ipynb",
      "provenance": [],
      "authorship_tag": "ABX9TyPwazb6PWh+F8kfjW0GjWqx",
      "include_colab_link": true
    },
    "kernelspec": {
      "name": "python3",
      "display_name": "Python 3"
    },
    "language_info": {
      "name": "python"
    },
    "accelerator": "GPU"
  },
  "cells": [
    {
      "cell_type": "markdown",
      "metadata": {
        "id": "view-in-github",
        "colab_type": "text"
      },
      "source": [
        "<a href=\"https://colab.research.google.com/github/adindaayundra/PlantDiseaseClassification/blob/main/PlantDiseaseClassification_MbkmRiset.ipynb\" target=\"_parent\"><img src=\"https://colab.research.google.com/assets/colab-badge.svg\" alt=\"Open In Colab\"/></a>"
      ]
    },
    {
      "cell_type": "markdown",
      "metadata": {
        "id": "Ax4vJKvS-3Ui"
      },
      "source": [
        "\n",
        "#**PLANT DISEASE CLASSIFICATION USING RESNET-9**#\n",
        "\n",
        ">Goals :\n",
        "Projek ini dapat membangun sebuah model yang dapat mengklasifikasikan antara daun tanaman yang sehat dan yang tidak sehat dan juga jika tanaman tersebut memiliki penyakit, kita dapat memprediksi jenis penyakitnya.\n",
        "\n"
      ]
    },
    {
      "cell_type": "markdown",
      "metadata": {
        "id": "GEKC9IZkAqiB"
      },
      "source": [
        "#Library and Data Preparation"
      ]
    },
    {
      "cell_type": "code",
      "metadata": {
        "colab": {
          "base_uri": "https://localhost:8080/"
        },
        "id": "sKYiLeJ_8wbH",
        "outputId": "806ce9b0-04f4-4b84-d805-bb6e4ea72c9c"
      },
      "source": [
        "!pip install torchsummary"
      ],
      "execution_count": 14,
      "outputs": [
        {
          "output_type": "stream",
          "name": "stdout",
          "text": [
            "Requirement already satisfied: torchsummary in /usr/local/lib/python3.7/dist-packages (1.5.1)\n"
          ]
        }
      ]
    },
    {
      "cell_type": "code",
      "metadata": {
        "id": "maltOOZI9TBa"
      },
      "source": [
        "import os\n",
        "import numpy as np\n",
        "import pandas as pd\n",
        "import torch\n",
        "import torch.nn as nn\n",
        "from torch.utils.data import DataLoader\n",
        "from PIL import Image\n",
        "import torch.nn.functional as F\n",
        "import torchvision.transforms as transforms\n",
        "from torchvision.utils import make_grid\n",
        "from torchvision.datasets import ImageFolder\n",
        "from torchsummary import summary\n",
        "\n",
        "%matplotlib inline"
      ],
      "execution_count": 15,
      "outputs": []
    },
    {
      "cell_type": "markdown",
      "metadata": {
        "id": "Hw3PdAc4A6jF"
      },
      "source": [
        "#Exploring the Data"
      ]
    },
    {
      "cell_type": "code",
      "metadata": {
        "colab": {
          "base_uri": "https://localhost:8080/"
        },
        "id": "4awIO08VBAt3",
        "outputId": "1178900f-33d6-466c-b62d-196a5388458a"
      },
      "source": [
        "from google.colab import drive\n",
        "drive.mount('/content/gdrive')"
      ],
      "execution_count": 16,
      "outputs": [
        {
          "output_type": "stream",
          "name": "stdout",
          "text": [
            "Drive already mounted at /content/gdrive; to attempt to forcibly remount, call drive.mount(\"/content/gdrive\", force_remount=True).\n"
          ]
        }
      ]
    },
    {
      "cell_type": "code",
      "metadata": {
        "id": "Q_HYlhoRBmYU"
      },
      "source": [
        "data_dir = \"/content/gdrive/MyDrive/MbkmRiset/Dataset/data_distribution_for_SVM\"\n",
        "train_dir = data_dir + \"/train\"\n",
        "valid_dir = data_dir + \"/valid\"\n",
        "diseases = os.listdir(train_dir)"
      ],
      "execution_count": 19,
      "outputs": []
    },
    {
      "cell_type": "code",
      "metadata": {
        "colab": {
          "base_uri": "https://localhost:8080/"
        },
        "id": "UtehJ1PgnpO7",
        "outputId": "24508160-1bca-4950-8ef6-00e87e5cf13e"
      },
      "source": [
        "print (diseases)"
      ],
      "execution_count": 20,
      "outputs": [
        {
          "output_type": "stream",
          "name": "stdout",
          "text": [
            "['1', '0', '14', '16', '15', '13', '19', '10', '17', '12', '18', '11', '21', '22', '2', '26', '20', '24', '28', '25', '23', '27', '36', '29', '3', '34', '33', '30', '31', '35', '37', '32', '5', '6', '9', '8', '7', '4']\n"
          ]
        }
      ]
    }
  ]
}